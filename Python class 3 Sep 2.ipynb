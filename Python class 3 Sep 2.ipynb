{
 "cells": [
  {
   "cell_type": "code",
   "execution_count": 2,
   "id": "48c9605a-d849-478e-92aa-76409f08b683",
   "metadata": {},
   "outputs": [],
   "source": [
    "s1 = \"pwskills\""
   ]
  },
  {
   "cell_type": "code",
   "execution_count": 4,
   "id": "3fa04012-a11f-4317-bdd4-442338795ad0",
   "metadata": {},
   "outputs": [
    {
     "data": {
      "text/plain": [
       "2"
      ]
     },
     "execution_count": 4,
     "metadata": {},
     "output_type": "execute_result"
    }
   ],
   "source": [
    "s1.count('l')"
   ]
  },
  {
   "cell_type": "code",
   "execution_count": 6,
   "id": "1aec145d-58e7-4095-9cb0-255356149c3b",
   "metadata": {},
   "outputs": [
    {
     "data": {
      "text/plain": [
       "2"
      ]
     },
     "execution_count": 6,
     "metadata": {},
     "output_type": "execute_result"
    }
   ],
   "source": [
    "s1.find('s')"
   ]
  },
  {
   "cell_type": "code",
   "execution_count": 9,
   "id": "105ef10d-1ea9-49cc-b12b-ebc895539536",
   "metadata": {},
   "outputs": [
    {
     "data": {
      "text/plain": [
       "0"
      ]
     },
     "execution_count": 9,
     "metadata": {},
     "output_type": "execute_result"
    }
   ],
   "source": [
    "s1.index('p')"
   ]
  },
  {
   "cell_type": "code",
   "execution_count": 11,
   "id": "1063dcec-6414-45e2-b21d-a16f6fe72e38",
   "metadata": {},
   "outputs": [
    {
     "data": {
      "text/plain": [
       "2"
      ]
     },
     "execution_count": 11,
     "metadata": {},
     "output_type": "execute_result"
    }
   ],
   "source": [
    "s1.index('s')"
   ]
  },
  {
   "cell_type": "code",
   "execution_count": 14,
   "id": "4d897dbd-9211-4453-be94-0dad91ba1d0f",
   "metadata": {},
   "outputs": [
    {
     "data": {
      "text/plain": [
       "'PWSKILLS'"
      ]
     },
     "execution_count": 14,
     "metadata": {},
     "output_type": "execute_result"
    }
   ],
   "source": [
    "s1.upper()"
   ]
  },
  {
   "cell_type": "code",
   "execution_count": 16,
   "id": "d5bd8783-fd08-4d18-8942-64f8a75d6746",
   "metadata": {},
   "outputs": [
    {
     "data": {
      "text/plain": [
       "'pwskills'"
      ]
     },
     "execution_count": 16,
     "metadata": {},
     "output_type": "execute_result"
    }
   ],
   "source": [
    "s1.lower()"
   ]
  },
  {
   "cell_type": "code",
   "execution_count": 20,
   "id": "245f622b-cf10-4740-8391-aa2fef4d3bfc",
   "metadata": {},
   "outputs": [],
   "source": [
    "s2 = \"my name is ramasubbu\""
   ]
  },
  {
   "cell_type": "code",
   "execution_count": 22,
   "id": "bdde5aed-9343-42a0-8139-0077d6f307ab",
   "metadata": {},
   "outputs": [
    {
     "data": {
      "text/plain": [
       "'My Name Is Ramasubbu'"
      ]
     },
     "execution_count": 22,
     "metadata": {},
     "output_type": "execute_result"
    }
   ],
   "source": [
    "s2.title()"
   ]
  },
  {
   "cell_type": "code",
   "execution_count": 24,
   "id": "762b1c39-7b2c-4e94-9ea9-d0a4fac4fe0a",
   "metadata": {},
   "outputs": [
    {
     "data": {
      "text/plain": [
       "['my', 'name', 'is', 'ramasubbu']"
      ]
     },
     "execution_count": 24,
     "metadata": {},
     "output_type": "execute_result"
    }
   ],
   "source": [
    "s2.split()"
   ]
  },
  {
   "cell_type": "code",
   "execution_count": 29,
   "id": "8064d6de-bede-42c5-9b21-362b807bcf7a",
   "metadata": {},
   "outputs": [],
   "source": [
    "s3 = 'this is my first fsds class. I am sturying 1st time'"
   ]
  },
  {
   "cell_type": "code",
   "execution_count": 32,
   "id": "b719930e-0017-443a-890f-d7584d54bf98",
   "metadata": {},
   "outputs": [
    {
     "data": {
      "text/plain": [
       "'this is my first fsds class'"
      ]
     },
     "execution_count": 32,
     "metadata": {},
     "output_type": "execute_result"
    }
   ],
   "source": [
    "s3.split('.')[0]"
   ]
  },
  {
   "cell_type": "code",
   "execution_count": 34,
   "id": "c502d3c5-71c6-4f23-9b4f-8d11b3115a0d",
   "metadata": {},
   "outputs": [
    {
     "data": {
      "text/plain": [
       "' I am sturying 1st time'"
      ]
     },
     "execution_count": 34,
     "metadata": {},
     "output_type": "execute_result"
    }
   ],
   "source": [
    "s3.split('.')[1]"
   ]
  },
  {
   "cell_type": "code",
   "execution_count": 36,
   "id": "b2523c06-a4c3-42c7-a19c-10fc3db3f0de",
   "metadata": {},
   "outputs": [
    {
     "data": {
      "text/plain": [
       "'My name is ramasubbu'"
      ]
     },
     "execution_count": 36,
     "metadata": {},
     "output_type": "execute_result"
    }
   ],
   "source": [
    "s1.capitalize()"
   ]
  },
  {
   "cell_type": "code",
   "execution_count": 38,
   "id": "e418fdd8-26f3-4c51-a86c-7102fe52b9a8",
   "metadata": {},
   "outputs": [
    {
     "data": {
      "text/plain": [
       "'my neme is remesubbu'"
      ]
     },
     "execution_count": 38,
     "metadata": {},
     "output_type": "execute_result"
    }
   ],
   "source": [
    "s2.replace('a', 'e')"
   ]
  },
  {
   "cell_type": "code",
   "execution_count": 40,
   "id": "fa0561ca-07cc-4861-9bec-8819d16b0b5f",
   "metadata": {},
   "outputs": [],
   "source": [
    "s5 = \"     pwskills'     \""
   ]
  },
  {
   "cell_type": "code",
   "execution_count": 45,
   "id": "de38f4a5-392f-4748-bbec-3e79d135d513",
   "metadata": {},
   "outputs": [
    {
     "data": {
      "text/plain": [
       "\"     pwskills'\""
      ]
     },
     "execution_count": 45,
     "metadata": {},
     "output_type": "execute_result"
    }
   ],
   "source": [
    "s5.rstrip()"
   ]
  },
  {
   "cell_type": "code",
   "execution_count": 47,
   "id": "960dec83-3082-4e71-b1dc-ef877c778c77",
   "metadata": {},
   "outputs": [
    {
     "data": {
      "text/plain": [
       "\"pwskills'     \""
      ]
     },
     "execution_count": 47,
     "metadata": {},
     "output_type": "execute_result"
    }
   ],
   "source": [
    "s5.lstrip()"
   ]
  },
  {
   "cell_type": "code",
   "execution_count": null,
   "id": "e954e380-911e-403c-a827-ea19fb84c3a5",
   "metadata": {},
   "outputs": [],
   "source": [
    "s5.strip()"
   ]
  },
  {
   "cell_type": "code",
   "execution_count": null,
   "id": "86f24e08-03f3-4e4e-a407-a47966c215bc",
   "metadata": {},
   "outputs": [],
   "source": [
    "l3 = [1, 2, 3, 4, 'rama', 'subbu', 234.456, 6+7j, True, [3, 4, 5, 6]]"
   ]
  },
  {
   "cell_type": "code",
   "execution_count": null,
   "id": "0b9889f5-6f7e-4fd4-9683-146afe2ae087",
   "metadata": {},
   "outputs": [],
   "source": [
    "l4 = [300, 4, 5, \"pwskills\", 'rama']"
   ]
  },
  {
   "cell_type": "code",
   "execution_count": null,
   "id": "3e2b3d50-2fee-45e2-87e2-f81749951556",
   "metadata": {},
   "outputs": [],
   "source": [
    "l3.append('rama')"
   ]
  },
  {
   "cell_type": "code",
   "execution_count": null,
   "id": "d6e37b12-2c9a-46d8-82a8-b1427dfea8be",
   "metadata": {},
   "outputs": [],
   "source": [
    "l3"
   ]
  }
 ],
 "metadata": {
  "kernelspec": {
   "display_name": "Python 3 (ipykernel)",
   "language": "python",
   "name": "python3"
  },
  "language_info": {
   "codemirror_mode": {
    "name": "ipython",
    "version": 3
   },
   "file_extension": ".py",
   "mimetype": "text/x-python",
   "name": "python",
   "nbconvert_exporter": "python",
   "pygments_lexer": "ipython3",
   "version": "3.10.8"
  }
 },
 "nbformat": 4,
 "nbformat_minor": 5
}
